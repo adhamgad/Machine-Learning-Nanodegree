{
 "cells": [
  {
   "cell_type": "code",
   "execution_count": 1,
   "metadata": {
    "collapsed": true
   },
   "outputs": [],
   "source": [
    "import numpy as np\n",
    "import pandas as pd\n",
    "from collections import defaultdict\n",
    "import matplotlib.pyplot as plt\n",
    "%matplotlib inline"
   ]
  },
  {
   "cell_type": "code",
   "execution_count": 2,
   "metadata": {
    "collapsed": false
   },
   "outputs": [
    {
     "data": {
      "text/html": [
       "<div>\n",
       "<table border=\"1\" class=\"dataframe\">\n",
       "  <thead>\n",
       "    <tr style=\"text-align: right;\">\n",
       "      <th></th>\n",
       "      <th>user_id</th>\n",
       "      <th>age</th>\n",
       "      <th>gender</th>\n",
       "      <th>occupation</th>\n",
       "      <th>zipcode</th>\n",
       "      <th>movie_id</th>\n",
       "      <th>title</th>\n",
       "      <th>release_date</th>\n",
       "      <th>video_release_date</th>\n",
       "      <th>IMDb URL</th>\n",
       "      <th>...</th>\n",
       "      <th>Horror</th>\n",
       "      <th>Musical</th>\n",
       "      <th>Mystery</th>\n",
       "      <th>Romance</th>\n",
       "      <th>Sci-Fi</th>\n",
       "      <th>Thriller</th>\n",
       "      <th>War</th>\n",
       "      <th>Western</th>\n",
       "      <th>rating</th>\n",
       "      <th>timestamp</th>\n",
       "    </tr>\n",
       "  </thead>\n",
       "  <tbody>\n",
       "    <tr>\n",
       "      <th>0</th>\n",
       "      <td>1</td>\n",
       "      <td>24</td>\n",
       "      <td>M</td>\n",
       "      <td>technician</td>\n",
       "      <td>85711</td>\n",
       "      <td>1</td>\n",
       "      <td>Toy Story (1995)</td>\n",
       "      <td>01-Jan-1995</td>\n",
       "      <td>NaN</td>\n",
       "      <td>http://us.imdb.com/M/title-exact?Toy%20Story%2...</td>\n",
       "      <td>...</td>\n",
       "      <td>0</td>\n",
       "      <td>0</td>\n",
       "      <td>0</td>\n",
       "      <td>0</td>\n",
       "      <td>0</td>\n",
       "      <td>0</td>\n",
       "      <td>0</td>\n",
       "      <td>0</td>\n",
       "      <td>5</td>\n",
       "      <td>874965758</td>\n",
       "    </tr>\n",
       "    <tr>\n",
       "      <th>1</th>\n",
       "      <td>1</td>\n",
       "      <td>24</td>\n",
       "      <td>M</td>\n",
       "      <td>technician</td>\n",
       "      <td>85711</td>\n",
       "      <td>2</td>\n",
       "      <td>GoldenEye (1995)</td>\n",
       "      <td>01-Jan-1995</td>\n",
       "      <td>NaN</td>\n",
       "      <td>http://us.imdb.com/M/title-exact?GoldenEye%20(...</td>\n",
       "      <td>...</td>\n",
       "      <td>0</td>\n",
       "      <td>0</td>\n",
       "      <td>0</td>\n",
       "      <td>0</td>\n",
       "      <td>0</td>\n",
       "      <td>1</td>\n",
       "      <td>0</td>\n",
       "      <td>0</td>\n",
       "      <td>3</td>\n",
       "      <td>876893171</td>\n",
       "    </tr>\n",
       "    <tr>\n",
       "      <th>2</th>\n",
       "      <td>1</td>\n",
       "      <td>24</td>\n",
       "      <td>M</td>\n",
       "      <td>technician</td>\n",
       "      <td>85711</td>\n",
       "      <td>3</td>\n",
       "      <td>Four Rooms (1995)</td>\n",
       "      <td>01-Jan-1995</td>\n",
       "      <td>NaN</td>\n",
       "      <td>http://us.imdb.com/M/title-exact?Four%20Rooms%...</td>\n",
       "      <td>...</td>\n",
       "      <td>0</td>\n",
       "      <td>0</td>\n",
       "      <td>0</td>\n",
       "      <td>0</td>\n",
       "      <td>0</td>\n",
       "      <td>1</td>\n",
       "      <td>0</td>\n",
       "      <td>0</td>\n",
       "      <td>4</td>\n",
       "      <td>878542960</td>\n",
       "    </tr>\n",
       "    <tr>\n",
       "      <th>3</th>\n",
       "      <td>1</td>\n",
       "      <td>24</td>\n",
       "      <td>M</td>\n",
       "      <td>technician</td>\n",
       "      <td>85711</td>\n",
       "      <td>4</td>\n",
       "      <td>Get Shorty (1995)</td>\n",
       "      <td>01-Jan-1995</td>\n",
       "      <td>NaN</td>\n",
       "      <td>http://us.imdb.com/M/title-exact?Get%20Shorty%...</td>\n",
       "      <td>...</td>\n",
       "      <td>0</td>\n",
       "      <td>0</td>\n",
       "      <td>0</td>\n",
       "      <td>0</td>\n",
       "      <td>0</td>\n",
       "      <td>0</td>\n",
       "      <td>0</td>\n",
       "      <td>0</td>\n",
       "      <td>3</td>\n",
       "      <td>876893119</td>\n",
       "    </tr>\n",
       "    <tr>\n",
       "      <th>4</th>\n",
       "      <td>1</td>\n",
       "      <td>24</td>\n",
       "      <td>M</td>\n",
       "      <td>technician</td>\n",
       "      <td>85711</td>\n",
       "      <td>5</td>\n",
       "      <td>Copycat (1995)</td>\n",
       "      <td>01-Jan-1995</td>\n",
       "      <td>NaN</td>\n",
       "      <td>http://us.imdb.com/M/title-exact?Copycat%20(1995)</td>\n",
       "      <td>...</td>\n",
       "      <td>0</td>\n",
       "      <td>0</td>\n",
       "      <td>0</td>\n",
       "      <td>0</td>\n",
       "      <td>0</td>\n",
       "      <td>1</td>\n",
       "      <td>0</td>\n",
       "      <td>0</td>\n",
       "      <td>3</td>\n",
       "      <td>889751712</td>\n",
       "    </tr>\n",
       "  </tbody>\n",
       "</table>\n",
       "<p>5 rows × 31 columns</p>\n",
       "</div>"
      ],
      "text/plain": [
       "   user_id  age gender  occupation zipcode  movie_id              title  \\\n",
       "0        1   24      M  technician   85711         1   Toy Story (1995)   \n",
       "1        1   24      M  technician   85711         2   GoldenEye (1995)   \n",
       "2        1   24      M  technician   85711         3  Four Rooms (1995)   \n",
       "3        1   24      M  technician   85711         4  Get Shorty (1995)   \n",
       "4        1   24      M  technician   85711         5     Copycat (1995)   \n",
       "\n",
       "  release_date  video_release_date  \\\n",
       "0  01-Jan-1995                 NaN   \n",
       "1  01-Jan-1995                 NaN   \n",
       "2  01-Jan-1995                 NaN   \n",
       "3  01-Jan-1995                 NaN   \n",
       "4  01-Jan-1995                 NaN   \n",
       "\n",
       "                                            IMDb URL    ...      Horror  \\\n",
       "0  http://us.imdb.com/M/title-exact?Toy%20Story%2...    ...           0   \n",
       "1  http://us.imdb.com/M/title-exact?GoldenEye%20(...    ...           0   \n",
       "2  http://us.imdb.com/M/title-exact?Four%20Rooms%...    ...           0   \n",
       "3  http://us.imdb.com/M/title-exact?Get%20Shorty%...    ...           0   \n",
       "4  http://us.imdb.com/M/title-exact?Copycat%20(1995)    ...           0   \n",
       "\n",
       "   Musical  Mystery  Romance  Sci-Fi  Thriller  War  Western  rating  \\\n",
       "0        0        0        0       0         0    0        0       5   \n",
       "1        0        0        0       0         1    0        0       3   \n",
       "2        0        0        0       0         1    0        0       4   \n",
       "3        0        0        0       0         0    0        0       3   \n",
       "4        0        0        0       0         1    0        0       3   \n",
       "\n",
       "   timestamp  \n",
       "0  874965758  \n",
       "1  876893171  \n",
       "2  878542960  \n",
       "3  876893119  \n",
       "4  889751712  \n",
       "\n",
       "[5 rows x 31 columns]"
      ]
     },
     "execution_count": 2,
     "metadata": {},
     "output_type": "execute_result"
    }
   ],
   "source": [
    "u_cols = ['user_id','age','gender','occupation','zipcode']\n",
    "users = pd.read_csv(\"movieLens/u.user\",sep = \"|\", names = u_cols,encoding='latin-1')\n",
    "\n",
    "r_cols = [\"user_id\",\"movie_id\",\"rating\",\"timestamp\"]\n",
    "ratings = pd.read_csv(\"movieLens/u.data\",sep = \"\\t\" , names = r_cols , encoding=\"latin-1\")\n",
    "\n",
    "m_cols = [\"movie_id\",\"title\",\"release_date\",\"video_release_date\",\"IMDb URL\",\"unknown\", \"Action\" , \"Adventure\" , \"Animation\" ,\n",
    "              \"Children\", \"Comedy\" , \"Crime\" , \"Documentary\" , \"Drama\" , \"Fantasy\" ,\n",
    "              \"Film-Noir\" , \"Horror\" , \"Musical\", \"Mystery\" , \"Romance\" , \"Sci-Fi\" ,\n",
    "              \"Thriller\" , \"War\" , \"Western\" ]\n",
    "\n",
    "movies = pd.read_csv(\"movieLens/u.item\",sep = \"|\",names = m_cols,encoding=\"latin-1\")\n",
    "\n",
    "movie_ratings = pd.merge(movies,ratings)\n",
    "data = pd.merge(users,movie_ratings)\n",
    "data.head()"
   ]
  },
  {
   "cell_type": "code",
   "execution_count": 3,
   "metadata": {
    "collapsed": false
   },
   "outputs": [
    {
     "name": "stdout",
     "output_type": "stream",
     "text": [
      "Total number of users 943\n",
      "Total number of features 30\n",
      "Number of Male users 670\n",
      "Number of female users 273\n",
      "Mean rating 3.52986 \n",
      "Standard deviation of ratings is 1.12567359914\n"
     ]
    }
   ],
   "source": [
    "n_users = data.user_id.nunique()\n",
    "n_features = len(data.columns) -1 \n",
    "gender = data.groupby(\"gender\").user_id.nunique()\n",
    "n_male = gender.M\n",
    "n_femal = gender.F\n",
    "mean_rating = data.rating.mean()\n",
    "std_dev = data.rating.std()\n",
    "\n",
    "print(\"Total number of users {}\".format(n_users))\n",
    "print(\"Total number of features {}\".format(n_features))\n",
    "print(\"Number of Male users {}\".format(n_male))\n",
    "print(\"Number of female users {}\".format(n_femal))\n",
    "print(\"Mean rating {} \".format(mean_rating))\n",
    "print(\"Standard deviation of ratings is {}\".format(std_dev))"
   ]
  },
  {
   "cell_type": "code",
   "execution_count": 4,
   "metadata": {
    "collapsed": false
   },
   "outputs": [
    {
     "name": "stdout",
     "output_type": "stream",
     "text": [
      "title\n",
      "Star Wars (1977)                 583\n",
      "Contact (1997)                   509\n",
      "Fargo (1996)                     508\n",
      "Return of the Jedi (1983)        507\n",
      "Liar Liar (1997)                 485\n",
      "English Patient, The (1996)      481\n",
      "Scream (1996)                    478\n",
      "Toy Story (1995)                 452\n",
      "Air Force One (1997)             431\n",
      "Independence Day (ID4) (1996)    429\n",
      "dtype: int64\n",
      "                                 rating          \n",
      "                                   size      mean\n",
      "title                                            \n",
      "Close Shave, A (1995)               112  4.491071\n",
      "Schindler's List (1993)             298  4.466443\n",
      "Wrong Trousers, The (1993)          118  4.466102\n",
      "Casablanca (1942)                   243  4.456790\n",
      "Shawshank Redemption, The (1994)    283  4.445230\n",
      "Rear Window (1954)                  209  4.387560\n",
      "Usual Suspects, The (1995)          267  4.385768\n",
      "Star Wars (1977)                    583  4.358491\n",
      "12 Angry Men (1957)                 125  4.344000\n",
      "Citizen Kane (1941)                 198  4.292929\n"
     ]
    }
   ],
   "source": [
    "most_rated = data.groupby(\"title\").size().sort_values(ascending=False)[:10] #most rated 500 movies\n",
    "\n",
    "#print(most_rated)\n",
    "print(most_rated)\n",
    "title_rating = data.groupby(\"title\").agg({\"rating\":[np.size,np.mean]})\n",
    "atleast100 = title_rating[\"rating\"][\"size\"] >= 100\n",
    "top_rated = title_rating[atleast100].sort_values([(\"rating\",\"mean\")] , ascending = False)[:10] #top 10 rated movies\n",
    "print(top_rated)"
   ]
  },
  {
   "cell_type": "code",
   "execution_count": 5,
   "metadata": {
    "collapsed": false
   },
   "outputs": [
    {
     "data": {
      "image/png": "[encoded data removed]",
      "text/plain": [
       "<matplotlib.figure.Figure at 0x115826a90>"
      ]
     },
     "metadata": {},
     "output_type": "display_data"
    }
   ],
   "source": [
    "plt = users.age.plot.hist(bins = 30)\n",
    "plt.set_title(\"Distribution of users' ages\")\n",
    "plt.set_ylabel('count of users')\n",
    "plt.set_xlabel('age');"
   ]
  },
  {
   "cell_type": "code",
   "execution_count": 6,
   "metadata": {
    "collapsed": false
   },
   "outputs": [
    {
     "data": {
      "text/plain": [
       "<matplotlib.text.Text at 0x1103fb6d0>"
      ]
     },
     "execution_count": 6,
     "metadata": {},
     "output_type": "execute_result"
    },
    {
     "data": {
      "image/png": "[encoded data removed]",
      "text/plain": [
       "<matplotlib.figure.Figure at 0x115bc8a50>"
      ]
     },
     "metadata": {},
     "output_type": "display_data"
    }
   ],
   "source": [
    "pivoted = data.pivot_table(index=[\"movie_id\",\"title\"],columns=[\"gender\"],values=\"rating\",fill_value=0)\n",
    "pivoted[\"diff\"]=pivoted.M-pivoted.F\n",
    "pivoted.reset_index(\"movie_id\",inplace=True)\n",
    "disagreements = pivoted[pivoted.movie_id.isin(most_rated)][\"diff\"]\n",
    "#pivoted.head()\n",
    "disagreements.sort_values().plot(kind=\"barh\",figsize=[9,20])\n",
    "\n",
    "plt.set_title(\"Male vs. Female Avg. Ratings for top 100 movies\")\n",
    "plt.set_ylabel('Title')"
   ]
  },
  {
   "cell_type": "code",
   "execution_count": 7,
   "metadata": {
    "collapsed": false,
    "scrolled": false
   },
   "outputs": [],
   "source": [
    "most_rated = data.groupby('movie_id').size().sort_values(ascending=False)[:500] #most rated 500 movies\n",
    "disagreements = pivoted[pivoted.movie_id.isin(most_rated)][\"diff\"]\n",
    "male_choices = disagreements[disagreements>0]\n",
    "female_choices = disagreements[disagreements<0]\n",
    "male_choicesDF = pd.DataFrame(male_choices,columns=[\"diff\"])\n",
    "female_choicesDF = pd.DataFrame(female_choices,columns=[\"diff\"])\n",
    "male_choicesDF.reset_index(\"title\",inplace=True)\n",
    "female_choicesDF.reset_index(\"title\",inplace=True)\n",
    "\n",
    "flag = 0 \n",
    "dict = defaultdict(int)\n",
    "for i,val in enumerate(male_choicesDF.title):\n",
    "    for j,val2 in enumerate(movies.title):\n",
    "        if val == val2 and flag == 0:\n",
    "            mov = data.loc[data[\"title\"] == val2]\n",
    "           \n"
   ]
  },
  {
   "cell_type": "code",
   "execution_count": 8,
   "metadata": {
    "collapsed": false
   },
   "outputs": [],
   "source": [
    "def get_genre(df):\n",
    "    dict = defaultdict(int)\n",
    "    for i,val in enumerate(df.title):\n",
    "        for j,val2 in enumerate(movies.title):\n",
    "            if val == val2:\n",
    "                mov = data.loc[data[\"title\"] == val2]\n",
    "                for col in mov.columns[11:29]:\n",
    "                    rating = mov[col].values[0]\n",
    "                    if rating == 1:\n",
    "                        dict[col] = dict[col] + 1\n",
    "\n",
    "    return dict\n",
    "                \n",
    "male_categories  = get_genre(male_choicesDF)\n",
    "female_categories =  get_genre(female_choicesDF)\n",
    "\n",
    "male_dataframe = pd.DataFrame(male_categories.items(),columns=[\"genre\",\"no\"])\n",
    "male_dataframe.set_index(\"genre\",inplace=True)"
   ]
  },
  {
   "cell_type": "code",
   "execution_count": 9,
   "metadata": {
    "collapsed": false
   },
   "outputs": [],
   "source": [
    "female_dataframe = pd.DataFrame(female_categories.items(),columns=[\"genre\",\"no\"])\n",
    "female_dataframe.set_index(\"genre\",inplace=True)"
   ]
  },
  {
   "cell_type": "code",
   "execution_count": 10,
   "metadata": {
    "collapsed": false
   },
   "outputs": [
    {
     "data": {
      "text/plain": [
       "<matplotlib.text.Text at 0x115879250>"
      ]
     },
     "execution_count": 10,
     "metadata": {},
     "output_type": "execute_result"
    },
    {
     "data": {
      "image/png": "[encoded data removed]",
      "text/plain": [
       "<matplotlib.figure.Figure at 0x115826ad0>"
      ]
     },
     "metadata": {},
     "output_type": "display_data"
    }
   ],
   "source": [
    "df = male_dataframe-female_dataframe\n",
    "df.plot(kind=\"barh\",figsize=[9,20])\n",
    "plt.set_title(\"Male vs. Female Movie Genres\")"
   ]
  },
  {
   "cell_type": "code",
   "execution_count": 11,
   "metadata": {
    "collapsed": false
   },
   "outputs": [],
   "source": [
    "train = data.ix[:,[\"user_id\",\"movie_id\",\"rating\"]]\n",
    "import operator \n",
    "from pearson_similarity import pearson_sim \n",
    "from prediction import predict"
   ]
  },
  {
   "cell_type": "code",
   "execution_count": 24,
   "metadata": {
    "collapsed": true
   },
   "outputs": [],
   "source": [
    "from math import floor\n",
    "from sklearn.metrics import accuracy_score , mean_squared_error\n",
    "\n",
    "def evaluate(data,sim):\n",
    "    y_true = data.rating.values\n",
    "    y_pred = []\n",
    "    for index,val in data.iterrows():\n",
    "        pred = predict(train,val[\"user_id\"],val[\"movie_id\"],sim) #predicted rating\n",
    "        pred = round(pred) #round to the neares integer\n",
    "        y_pred.append(pred) #append to predictions array which will be used for evaluation\n",
    "    score_acc = accuracy_score(y_true,y_pred) \n",
    "    score_rmse = mean_squared_error(y_true,y_pred)\n",
    "    print (\"accuracy score {}\".format(score_acc))\n",
    "    print (\"RMSE {}\".format(score_rmse))\n",
    "    print (\"-----------\")\n",
    "    return (score_acc,score_rmse)\n"
   ]
  },
  {
   "cell_type": "code",
   "execution_count": 37,
   "metadata": {
    "collapsed": false
   },
   "outputs": [
    {
     "name": "stdout",
     "output_type": "stream",
     "text": [
      "accuracy score 0.412\n",
      "RMSE 0.91\n",
      "-----------\n",
      "accuracy score 0.414\n",
      "RMSE 0.902\n",
      "-----------\n",
      "accuracy score 0.42\n",
      "RMSE 0.864\n",
      "-----------\n",
      "accuracy score 0.43\n",
      "RMSE 0.872\n",
      "-----------\n",
      "accuracy score 0.434\n",
      "RMSE 0.986\n",
      "-----------\n",
      "accuracy score 0.45\n",
      "RMSE 1.418\n",
      "-----------\n",
      "accuracy score 0.328\n",
      "RMSE 4.442\n",
      "-----------\n",
      "accuracy score 0.28\n",
      "RMSE 6.674\n",
      "-----------\n",
      "accuracy score 0.176\n",
      "RMSE 9.434\n",
      "-----------\n",
      "accuracy score 0.116\n",
      "RMSE 11.49\n",
      "-----------\n",
      "accuracy score 0.0\n",
      "RMSE 13.746\n",
      "-----------\n"
     ]
    }
   ],
   "source": [
    "for sim in np.arange(0,1.1,0.1):\n",
    "    evaluate(train[:500],sim) # evaluate our model for different similarity thresholds ranging from 0 to 1"
   ]
  },
  {
   "cell_type": "code",
   "execution_count": 35,
   "metadata": {
    "collapsed": false
   },
   "outputs": [
    {
     "data": {
      "image/png": "[encoded data removed]",
      "text/plain": [
       "<matplotlib.figure.Figure at 0x11a843ad0>"
      ]
     },
     "metadata": {},
     "output_type": "display_data"
    }
   ],
   "source": [
    "x = np.arange(0,1.1,0.1)\n",
    "y = [0.91,0.902,0.864,0.872,0.986,1.418,4.442,6.674,9.434,11.49,13.746]\n",
    "plt.xlabel(\"Similarity\")\n",
    "plt.ylabel(\"RMSE\")\n",
    "plt.plot(x, y)\n",
    "plt.show()"
   ]
  },
  {
   "cell_type": "code",
   "execution_count": 41,
   "metadata": {
    "collapsed": false,
    "scrolled": true
   },
   "outputs": [
    {
     "name": "stdout",
     "output_type": "stream",
     "text": [
      "accuracy score 0.4827\n",
      "RMSE 0.7809\n",
      "-----------\n"
     ]
    }
   ],
   "source": [
    "evaluate(train[:20000],0.2) # evaluate our model with 0.2 similarity"
   ]
  },
  {
   "cell_type": "code",
   "execution_count": 43,
   "metadata": {
    "collapsed": false
   },
   "outputs": [
    {
     "data": {
      "image/png": "[encoded data removed]",
      "text/plain": [
       "<matplotlib.figure.Figure at 0x117e7d050>"
      ]
     },
     "metadata": {},
     "output_type": "display_data"
    }
   ],
   "source": [
    "import matplotlib.pyplot as plt\n",
    "\n",
    "x = range(100)\n",
    "plt.figure(figsize=(20,5))\n",
    "plt.bar(x,y_true[:100])\n",
    "plt.show()"
   ]
  },
  {
   "cell_type": "code",
   "execution_count": 17,
   "metadata": {
    "collapsed": false
   },
   "outputs": [
    {
     "data": {
      "text/plain": [
       "<function matplotlib.pyplot.show>"
      ]
     },
     "execution_count": 17,
     "metadata": {},
     "output_type": "execute_result"
    },
    {
     "data": {
      "image/png": "[encoded data removed]",
      "text/plain": [
       "<matplotlib.figure.Figure at 0x1153b7710>"
      ]
     },
     "metadata": {},
     "output_type": "display_data"
    }
   ],
   "source": [
    "plt.figure(figsize=(20,5))\n",
    "plt.bar(x,y_pred[:100])\n",
    "plt.show"
   ]
  },
  {
   "cell_type": "code",
   "execution_count": 18,
   "metadata": {
    "collapsed": false
   },
   "outputs": [
    {
     "data": {
      "image/png": "[encoded data removed]",
      "text/plain": [
       "<matplotlib.figure.Figure at 0x116b83350>"
      ]
     },
     "metadata": {},
     "output_type": "display_data"
    }
   ],
   "source": [
    "x = np.arange(100)\n",
    "\n",
    "fig, ax = plt.subplots(figsize=(30,5))\n",
    "bar_width = 0.4\n",
    "\n",
    "plt.xlabel('Movies')\n",
    "plt.ylabel('Ratings')\n",
    "plt.title('Actual vs Predicted movie ratings')\n",
    "plt.xticks(x + bar_width,x)\n",
    "rects1 = plt.bar(x,y_true[:100],bar_width,\n",
    "                 color='b',label=\"Actual\")\n",
    "\n",
    "rects2 = plt.bar(x + bar_width,y_pred[:100], bar_width,\n",
    "                 color='g',label=\"predicted\")\n"
   ]
  },
  {
   "cell_type": "code",
   "execution_count": 105,
   "metadata": {
    "collapsed": false
   },
   "outputs": [
    {
     "name": "stdout",
     "output_type": "stream",
     "text": [
      "accuracy score 0.4724\n",
      "RMSE 0.79245\n"
     ]
    }
   ],
   "source": [
    "#Trying our model on Movie lens testing data     \n",
    "r_cols = [\"user_id\",\"movie_id\",\"rating\",\"timestamp\"]\n",
    "test1 = pd.read_csv(\"movieLens/u1.test\",sep = \"\\t\" , names = r_cols , encoding=\"latin-1\")\n",
    "evaluate(test1,0)"
   ]
  },
  {
   "cell_type": "code",
   "execution_count": 52,
   "metadata": {
    "collapsed": false
   },
   "outputs": [
    {
     "name": "stdout",
     "output_type": "stream",
     "text": [
      "accuracy score 0.479026845638\n",
      "RMSE 0.810402684564\n",
      "-----------\n",
      "accuracy score 0.471816083109\n",
      "RMSE 0.863168526356\n",
      "-----------\n",
      "accuracy score 0.46140659748\n",
      "RMSE 0.951445515196\n",
      "-----------\n",
      "accuracy score 0.44933745583\n",
      "RMSE 1.05618374558\n",
      "-----------\n"
     ]
    }
   ],
   "source": [
    "from random import randint,choice\n",
    "\n",
    "subset = train[:20000]\n",
    "x = len(subset.drop_duplicates(\"user_id\").user_id.values)\n",
    "fake_users = [int(x *0.03) ,int(x*0.06),int(x*0.09), int(x*0.12)]\n",
    "output = {}\n",
    "\n",
    "for i in range(len(fake_users)):\n",
    "    #evaluate our data for each attack profile number\n",
    "    number_movies = len(subset.drop_duplicates(\"movie_id\").movie_id.values) #number of movies without duplicates\n",
    "    fake_movies_num = int(round(number_movies * .03)) #number of filler items\n",
    "    current_user = max(subset.drop_duplicates(\"user_id\").user_id.values) + 1 # our first attack profile ID \n",
    "    \n",
    "    users_num = fake_users[i]\n",
    "    fake_data = []\n",
    "    for user in range(current_user, users_num+current_user ):\n",
    "        random_movieid = most_rated[:10].index[randint(0,9)] #random movie picked from most rated movies\n",
    "        fake_data.append([user,random_movieid,5])\n",
    "        for i in range(fake_movies_num):\n",
    "            movie_id = choice(subset.drop_duplicates(\"movie_id\").movie_id.values) #choose a random movie as a filler item\n",
    "            tmp = [user,movie_id,randint(1,5)] # user - movie - random rating\n",
    "            fake_data.append(tmp)\n",
    "\n",
    "    df = pd.DataFrame(fake_data,columns=[\"user_id\",\"movie_id\",\"rating\"]) #a dataframe of our newly created false data\n",
    "    subset = subset.append(df,ignore_index=True) #our old data + our newly created false data\n",
    "    output[i] = evaluate(subset,0.2)\n",
    "                "
   ]
  },
  {
   "cell_type": "code",
   "execution_count": 58,
   "metadata": {
    "collapsed": false
   },
   "outputs": [
    {
     "data": {
      "image/png": "[encoded data removed]",
      "text/plain": [
       "<matplotlib.figure.Figure at 0x11aa63bd0>"
      ]
     },
     "metadata": {},
     "output_type": "display_data"
    },
    {
     "name": "stdout",
     "output_type": "stream",
     "text": [
      "[6, 12, 18, 24]\n"
     ]
    }
   ],
   "source": [
    "x = [0]\n",
    "x.extend(fake_users)\n",
    "y = [0.78,0.81,0.86,0.95,1.05]\n",
    "plt.xlabel(\"Attack Size\")\n",
    "plt.ylabel(\"RMSE Shift\")\n",
    "plt.plot(x, y)\n",
    "plt.show()\n",
    "print fake_users"
   ]
  },
  {
   "cell_type": "code",
   "execution_count": 55,
   "metadata": {
    "collapsed": false
   },
   "outputs": [
    {
     "data": {
      "image/png": "[encoded data removed]",
      "text/plain": [
       "<matplotlib.figure.Figure at 0x11ae5cc90>"
      ]
     },
     "metadata": {},
     "output_type": "display_data"
    }
   ],
   "source": [
    "y = [0.482,0.479,0.471,0.461,0.449]\n",
    "plt.xlabel(\"Attack Size\")\n",
    "plt.ylabel(\"Accuracy Shift\")\n",
    "plt.plot(x,y)\n",
    "plt.show()"
   ]
  }
 ],
 "metadata": {
  "kernelspec": {
   "display_name": "Python 2",
   "language": "python",
   "name": "python2"
  },
  "language_info": {
   "codemirror_mode": {
    "name": "ipython",
    "version": 2
   },
   "file_extension": ".py",
   "mimetype": "text/x-python",
   "name": "python",
   "nbconvert_exporter": "python",
   "pygments_lexer": "ipython2",
   "version": "2.7.10"
  }
 },
 "nbformat": 4,
 "nbformat_minor": 0
}
